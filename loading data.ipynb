{
 "cells": [
  {
   "cell_type": "code",
   "execution_count": null,
   "id": "984dcca9",
   "metadata": {},
   "outputs": [],
   "source": [
    "TITLE:\"Legal Decision Support System for Criminal Case Bail and Sentencing Recommendations\""
   ]
  },
  {
   "cell_type": "code",
   "execution_count": 1,
   "id": "74c49878",
   "metadata": {},
   "outputs": [],
   "source": [
    "import pandas as pd"
   ]
  },
  {
   "cell_type": "code",
   "execution_count": 4,
   "id": "0f841027",
   "metadata": {},
   "outputs": [],
   "source": [
    "Legal_decisions=pd.read_excel(r'C:\\Users\\lasya\\OneDrive\\lasyapriya bommala\\Desktop\\DS PROJECT\\law.xlsx')"
   ]
  },
  {
   "cell_type": "code",
   "execution_count": null,
   "id": "52c66966",
   "metadata": {},
   "outputs": [
    {
     "name": "stdout",
     "output_type": "stream",
     "text": [
      "<class 'pandas.core.frame.DataFrame'>\n",
      "RangeIndex: 239 entries, 0 to 238\n",
      "Data columns (total 14 columns):\n",
      " #   Column             Non-Null Count  Dtype \n",
      "---  ------             --------------  ----- \n",
      " 0   CASEID             239 non-null    object\n",
      " 1   DEFENDANT NAME     239 non-null    object\n",
      " 2   GENDER             239 non-null    object\n",
      " 3   MALE               239 non-null    int64 \n",
      " 4   IPC SECTIONS       239 non-null    object\n",
      " 5   CRIME TYPE         239 non-null    object\n",
      " 6   EVIDENCE STRENGTH  239 non-null    object\n",
      " 7   PRIOR CONVICTIONS  239 non-null    int64 \n",
      " 8   TRIAL_DELAY_YEARS  239 non-null    int64 \n",
      " 9   VICTIM_STATUS      239 non-null    object\n",
      " 10  WEAPON_USED        239 non-null    object\n",
      " 11  GANG_RELATED       239 non-null    object\n",
      " 12  ACCUSED_AGE        239 non-null    int64 \n",
      " 13  ACCUSED_GENDER     239 non-null    object\n",
      "dtypes: int64(4), object(10)\n",
      "memory usage: 26.3+ KB\n"
     ]
    }
   ],
   "source": [
    "#data types and missing values\n",
    "Legal_decisions.info()"
   ]
  },
  {
   "cell_type": "code",
   "execution_count": null,
   "id": "c9f1a93e",
   "metadata": {},
   "outputs": [
    {
     "data": {
      "text/plain": [
       "(239, 14)"
      ]
     },
     "execution_count": 9,
     "metadata": {},
     "output_type": "execute_result"
    }
   ],
   "source": [
    "#no.of rows and coloumns\n",
    "Legal_decisions.shape"
   ]
  },
  {
   "cell_type": "code",
   "execution_count": null,
   "id": "fd92166a",
   "metadata": {},
   "outputs": [
    {
     "data": {
      "text/plain": [
       "CASEID               0\n",
       "DEFENDANT NAME       0\n",
       "GENDER               0\n",
       "MALE                 0\n",
       "IPC SECTIONS         0\n",
       "CRIME TYPE           0\n",
       "EVIDENCE STRENGTH    0\n",
       "PRIOR CONVICTIONS    0\n",
       "TRIAL_DELAY_YEARS    0\n",
       "VICTIM_STATUS        0\n",
       "WEAPON_USED          0\n",
       "GANG_RELATED         0\n",
       "ACCUSED_AGE          0\n",
       "ACCUSED_GENDER       0\n",
       "dtype: int64"
      ]
     },
     "execution_count": 10,
     "metadata": {},
     "output_type": "execute_result"
    }
   ],
   "source": [
    "#missing values\n",
    "Legal_decisions.isnull().sum()"
   ]
  },
  {
   "cell_type": "code",
   "execution_count": 13,
   "id": "ee3a9a38",
   "metadata": {},
   "outputs": [
    {
     "data": {
      "text/html": [
       "<div>\n",
       "<style scoped>\n",
       "    .dataframe tbody tr th:only-of-type {\n",
       "        vertical-align: middle;\n",
       "    }\n",
       "\n",
       "    .dataframe tbody tr th {\n",
       "        vertical-align: top;\n",
       "    }\n",
       "\n",
       "    .dataframe thead th {\n",
       "        text-align: right;\n",
       "    }\n",
       "</style>\n",
       "<table border=\"1\" class=\"dataframe\">\n",
       "  <thead>\n",
       "    <tr style=\"text-align: right;\">\n",
       "      <th></th>\n",
       "      <th>MALE</th>\n",
       "      <th>PRIOR CONVICTIONS</th>\n",
       "      <th>TRIAL_DELAY_YEARS</th>\n",
       "      <th>ACCUSED_AGE</th>\n",
       "    </tr>\n",
       "  </thead>\n",
       "  <tbody>\n",
       "    <tr>\n",
       "      <th>count</th>\n",
       "      <td>239.000000</td>\n",
       "      <td>239.000000</td>\n",
       "      <td>239.000000</td>\n",
       "      <td>239.000000</td>\n",
       "    </tr>\n",
       "    <tr>\n",
       "      <th>mean</th>\n",
       "      <td>28.644351</td>\n",
       "      <td>1.071130</td>\n",
       "      <td>1.351464</td>\n",
       "      <td>27.460251</td>\n",
       "    </tr>\n",
       "    <tr>\n",
       "      <th>std</th>\n",
       "      <td>8.153148</td>\n",
       "      <td>2.361981</td>\n",
       "      <td>1.861233</td>\n",
       "      <td>7.983537</td>\n",
       "    </tr>\n",
       "    <tr>\n",
       "      <th>min</th>\n",
       "      <td>12.000000</td>\n",
       "      <td>0.000000</td>\n",
       "      <td>0.000000</td>\n",
       "      <td>12.000000</td>\n",
       "    </tr>\n",
       "    <tr>\n",
       "      <th>25%</th>\n",
       "      <td>22.000000</td>\n",
       "      <td>0.000000</td>\n",
       "      <td>0.000000</td>\n",
       "      <td>21.000000</td>\n",
       "    </tr>\n",
       "    <tr>\n",
       "      <th>50%</th>\n",
       "      <td>28.000000</td>\n",
       "      <td>0.000000</td>\n",
       "      <td>1.000000</td>\n",
       "      <td>27.000000</td>\n",
       "    </tr>\n",
       "    <tr>\n",
       "      <th>75%</th>\n",
       "      <td>35.000000</td>\n",
       "      <td>1.000000</td>\n",
       "      <td>1.000000</td>\n",
       "      <td>33.000000</td>\n",
       "    </tr>\n",
       "    <tr>\n",
       "      <th>max</th>\n",
       "      <td>50.000000</td>\n",
       "      <td>12.000000</td>\n",
       "      <td>11.000000</td>\n",
       "      <td>50.000000</td>\n",
       "    </tr>\n",
       "  </tbody>\n",
       "</table>\n",
       "</div>"
      ],
      "text/plain": [
       "             MALE  PRIOR CONVICTIONS  TRIAL_DELAY_YEARS  ACCUSED_AGE\n",
       "count  239.000000         239.000000         239.000000   239.000000\n",
       "mean    28.644351           1.071130           1.351464    27.460251\n",
       "std      8.153148           2.361981           1.861233     7.983537\n",
       "min     12.000000           0.000000           0.000000    12.000000\n",
       "25%     22.000000           0.000000           0.000000    21.000000\n",
       "50%     28.000000           0.000000           1.000000    27.000000\n",
       "75%     35.000000           1.000000           1.000000    33.000000\n",
       "max     50.000000          12.000000          11.000000    50.000000"
      ]
     },
     "execution_count": 13,
     "metadata": {},
     "output_type": "execute_result"
    }
   ],
   "source": [
    "#summary statistics\n",
    "Legal_decisions.describe()\n"
   ]
  }
 ],
 "metadata": {
  "kernelspec": {
   "display_name": "base",
   "language": "python",
   "name": "python3"
  },
  "language_info": {
   "codemirror_mode": {
    "name": "ipython",
    "version": 3
   },
   "file_extension": ".py",
   "mimetype": "text/x-python",
   "name": "python",
   "nbconvert_exporter": "python",
   "pygments_lexer": "ipython3",
   "version": "3.12.7"
  }
 },
 "nbformat": 4,
 "nbformat_minor": 5
}
