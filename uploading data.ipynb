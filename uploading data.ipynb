{
 "cells": [
  {
   "cell_type": "code",
   "execution_count": 2,
   "id": "63daf5e4",
   "metadata": {},
   "outputs": [
    {
     "name": "stdout",
     "output_type": "stream",
     "text": [
      "Requirement already satisfied: boto3 in c:\\users\\lasya\\anaconda3\\lib\\site-packages (1.38.36)Note: you may need to restart the kernel to use updated packages.\n",
      "\n",
      "Requirement already satisfied: botocore<1.39.0,>=1.38.36 in c:\\users\\lasya\\anaconda3\\lib\\site-packages (from boto3) (1.38.36)\n",
      "Requirement already satisfied: jmespath<2.0.0,>=0.7.1 in c:\\users\\lasya\\anaconda3\\lib\\site-packages (from boto3) (1.0.1)\n",
      "Requirement already satisfied: s3transfer<0.14.0,>=0.13.0 in c:\\users\\lasya\\anaconda3\\lib\\site-packages (from boto3) (0.13.0)\n",
      "Requirement already satisfied: python-dateutil<3.0.0,>=2.1 in c:\\users\\lasya\\anaconda3\\lib\\site-packages (from botocore<1.39.0,>=1.38.36->boto3) (2.9.0.post0)\n",
      "Requirement already satisfied: urllib3!=2.2.0,<3,>=1.25.4 in c:\\users\\lasya\\anaconda3\\lib\\site-packages (from botocore<1.39.0,>=1.38.36->boto3) (2.2.3)\n",
      "Requirement already satisfied: six>=1.5 in c:\\users\\lasya\\anaconda3\\lib\\site-packages (from python-dateutil<3.0.0,>=2.1->botocore<1.39.0,>=1.38.36->boto3) (1.16.0)\n"
     ]
    }
   ],
   "source": [
    "pip install boto3"
   ]
  },
  {
   "cell_type": "code",
   "execution_count": 3,
   "id": "caab4835",
   "metadata": {},
   "outputs": [
    {
     "name": "stdout",
     "output_type": "stream",
     "text": [
      "creditcardfrauddetectionmainbucket\n",
      "creditcardfrauddetectionsourcebucket\n",
      "demo11source-bucket\n",
      "demo22destination-bucket\n",
      "legaldecisionsystem\n",
      "legaldecisionsystembackupbucket\n",
      "mti-backup-bucket\n",
      "mti-source-bucket\n",
      "mtieat-my-bucket\n",
      "praveen-travel-source-bucket\n",
      "praveen-travels-backup-bucket\n",
      "praveen-travels-main-bucket\n",
      "test-bucket-destination-5\n",
      "test-source-bucket-5\n"
     ]
    }
   ],
   "source": [
    "import boto3 as b3\n",
    "import pandas as pd\n",
    "s3_client=b3.client('s3')\n",
    "s3=b3.resource('s3')\n",
    "for bucket in s3.buckets.all():\n",
    "    print(bucket.name)"
   ]
  },
  {
   "cell_type": "code",
   "execution_count": 4,
   "id": "bb224677",
   "metadata": {},
   "outputs": [],
   "source": [
    "import pandas as pd\n",
    "bucket_name='legaldecisionsystem'\n",
    "object_name='law.xlsx'\n",
    "df=pd.read_csv=(r\"C:\\Users\\lasya\\OneDrive\\Desktop\\DS PROJECT\\ds project2\\crime_dataset.csv\")\n"
   ]
  }
 ],
 "metadata": {
  "kernelspec": {
   "display_name": "base",
   "language": "python",
   "name": "python3"
  },
  "language_info": {
   "codemirror_mode": {
    "name": "ipython",
    "version": 3
   },
   "file_extension": ".py",
   "mimetype": "text/x-python",
   "name": "python",
   "nbconvert_exporter": "python",
   "pygments_lexer": "ipython3",
   "version": "3.12.7"
  }
 },
 "nbformat": 4,
 "nbformat_minor": 5
}
